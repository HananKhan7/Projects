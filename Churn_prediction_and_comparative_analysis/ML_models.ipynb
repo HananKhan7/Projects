{
 "cells": [
  {
   "cell_type": "code",
   "execution_count": 1,
   "metadata": {},
   "outputs": [],
   "source": [
    "import pandas as pd\n",
    "import numpy as np\n",
    "from sklearn.model_selection import train_test_split\n",
    "from sklearn.preprocessing import StandardScaler, OneHotEncoder\n",
    "from sklearn.utils import shuffle\n",
    "from sklearn.metrics import classification_report, confusion_matrix, accuracy_score\n",
    "from sklearn.ensemble import RandomForestClassifier\n",
    "from sklearn.svm import SVC\n",
    "from tensorflow import keras\n",
    "from keras.regularizers import l1, l2\n",
    "from tensorflow.keras.callbacks import EarlyStopping"
   ]
  },
  {
   "cell_type": "code",
   "execution_count": 2,
   "metadata": {},
   "outputs": [
    {
     "name": "stderr",
     "output_type": "stream",
     "text": [
      "c:\\Users\\hanan\\AppData\\Local\\Programs\\Python\\Python311\\Lib\\site-packages\\sklearn\\preprocessing\\_encoders.py:868: FutureWarning: `sparse` was renamed to `sparse_output` in version 1.2 and will be removed in 1.4. `sparse_output` is ignored unless you leave `sparse` to its default value.\n",
      "  warnings.warn(\n"
     ]
    }
   ],
   "source": [
    "# Load data\n",
    "data = shuffle(pd.read_csv('dataset/data_churn.csv').drop(\"Unnamed: 0\", axis=1))\n",
    "x_variables = ['dateCreated', 'page_turn_count', 'view_duration','InstallDate']\n",
    "X = data[x_variables]\n",
    "y = data['churn'].values\n",
    "\n",
    "# One-hot encoder for churn variable (3 classes --> low, mid, and high risk)\n",
    "ohe = OneHotEncoder(sparse=False)\n",
    "y_encoded = ohe.fit_transform(y.reshape(-1, 1))\n",
    "\n",
    "# data split\n",
    "X_train, X_test, y_train, y_test = train_test_split(X, y_encoded, test_size=0.2, random_state=50)\n",
    "# Standardizing data\n",
    "scaler = StandardScaler()\n",
    "X_train = scaler.fit_transform(X_train)     \n",
    "X_test = scaler.transform(X_test) \n",
    "# Further splitting test data into validation and evaluation data\n",
    "X_validation, X_train_split = np.split(X_train,[int(0.1*len(X_train))])                # 10 % training data for validation, Rest is used for traininig.\n",
    "y_validation, y_train_split = np.split(y_train,[int(0.1*len(y_train))])         "
   ]
  },
  {
   "cell_type": "markdown",
   "metadata": {},
   "source": [
    "### NN"
   ]
  },
  {
   "cell_type": "code",
   "execution_count": 3,
   "metadata": {},
   "outputs": [],
   "source": [
    "# Building and compiling NN from keras\n",
    "# Initializing the Neural Network\n",
    "nn = keras.models.Sequential()\n",
    "# Adding input layer\n",
    "nn.add(keras.layers.Input(shape=(X_train.shape[1],)))               # Adding number of neurons based on selected relevant variables)\n",
    "# Adding Hidden layers\n",
    "nn.add(keras.layers.Dense(units =50 , activation = 'PReLU', kernel_regularizer = l1(0.01)))\n",
    "nn.add(keras.layers.Dense(units =50 , activation = 'PReLU', kernel_regularizer = l2(0.01)))\n",
    "nn.add(keras.layers.Dense(units = 3 , activation = 'softmax'))      # 3 categories of risk based on churn prediction (High, mid, and low risk)\n",
    "nn.compile(optimizer='adam',loss='categorical_crossentropy', metrics='accuracy')"
   ]
  },
  {
   "cell_type": "code",
   "execution_count": 4,
   "metadata": {},
   "outputs": [
    {
     "name": "stdout",
     "output_type": "stream",
     "text": [
      "Epoch 1/15\n",
      "5739/5739 [==============================] - 9s 1ms/step - loss: 0.1920 - accuracy: 0.9866 - val_loss: 0.1079 - val_accuracy: 0.9922\n",
      "Epoch 2/15\n",
      "5739/5739 [==============================] - 7s 1ms/step - loss: 0.0937 - accuracy: 0.9923 - val_loss: 0.0848 - val_accuracy: 0.9914\n",
      "Epoch 3/15\n",
      "5739/5739 [==============================] - 7s 1ms/step - loss: 0.0761 - accuracy: 0.9929 - val_loss: 0.0698 - val_accuracy: 0.9951\n",
      "Epoch 4/15\n",
      "5739/5739 [==============================] - 7s 1ms/step - loss: 0.0674 - accuracy: 0.9935 - val_loss: 0.0644 - val_accuracy: 0.9957\n",
      "Epoch 5/15\n",
      "5739/5739 [==============================] - 7s 1ms/step - loss: 0.0628 - accuracy: 0.9936 - val_loss: 0.0633 - val_accuracy: 0.9939\n",
      "Epoch 6/15\n",
      "5739/5739 [==============================] - 7s 1ms/step - loss: 0.0594 - accuracy: 0.9936 - val_loss: 0.0568 - val_accuracy: 0.9947\n",
      "Epoch 7/15\n",
      "5739/5739 [==============================] - 7s 1ms/step - loss: 0.0564 - accuracy: 0.9942 - val_loss: 0.0542 - val_accuracy: 0.9967\n",
      "Epoch 8/15\n",
      "5739/5739 [==============================] - 7s 1ms/step - loss: 0.0543 - accuracy: 0.9940 - val_loss: 0.0554 - val_accuracy: 0.9912\n",
      "Epoch 9/15\n",
      "5739/5739 [==============================] - 7s 1ms/step - loss: 0.0523 - accuracy: 0.9941 - val_loss: 0.0496 - val_accuracy: 0.9964\n",
      "Epoch 10/15\n",
      "5739/5739 [==============================] - 7s 1ms/step - loss: 0.0505 - accuracy: 0.9941 - val_loss: 0.0507 - val_accuracy: 0.9915\n",
      "Epoch 11/15\n",
      "5739/5739 [==============================] - 9s 2ms/step - loss: 0.0485 - accuracy: 0.9942 - val_loss: 0.0481 - val_accuracy: 0.9928\n",
      "Epoch 12/15\n",
      "5739/5739 [==============================] - 9s 2ms/step - loss: 0.0458 - accuracy: 0.9941 - val_loss: 0.0459 - val_accuracy: 0.9922\n",
      "Epoch 13/15\n",
      "5739/5739 [==============================] - 9s 2ms/step - loss: 0.0447 - accuracy: 0.9944 - val_loss: 0.0432 - val_accuracy: 0.9952\n",
      "Epoch 14/15\n",
      "5739/5739 [==============================] - 8s 1ms/step - loss: 0.0434 - accuracy: 0.9948 - val_loss: 0.0437 - val_accuracy: 0.9929\n",
      "Epoch 15/15\n",
      "5739/5739 [==============================] - 7s 1ms/step - loss: 0.0428 - accuracy: 0.9945 - val_loss: 0.0418 - val_accuracy: 0.9961\n"
     ]
    },
    {
     "data": {
      "text/plain": [
       "<keras.callbacks.History at 0x19dd1e6b710>"
      ]
     },
     "execution_count": 4,
     "metadata": {},
     "output_type": "execute_result"
    }
   ],
   "source": [
    "# Training NN\n",
    "# Adding early stopping\n",
    "early_stopping = EarlyStopping(monitor = 'val_loss', patience = 10)\n",
    "# Setting custom weights, to increase training prirority for page turn counts and view duration based on data analysis.\n",
    "# custom_weights = np.array([1.0, 1.5, 1.5, 1.0])\n",
    "# X_train_weighted = X_train * custom_weights\n",
    "nn.fit(X_train_split, y_train_split, batch_size=32, epochs = 15 ,verbose = 1, validation_data = [X_validation, y_validation], callbacks = [early_stopping])"
   ]
  },
  {
   "cell_type": "code",
   "execution_count": 5,
   "metadata": {},
   "outputs": [
    {
     "name": "stdout",
     "output_type": "stream",
     "text": [
      "1595/1595 [==============================] - 1s 907us/step - loss: 0.0427 - accuracy: 0.9947\n",
      "1595/1595 [==============================] - 1s 789us/step\n"
     ]
    }
   ],
   "source": [
    "# Evaluate the model\n",
    "nn_loss, nn_accuracy = nn.evaluate(X_test, y_test)\n",
    "nn_pred = nn.predict(X_test)\n",
    "nn_pred_classes = np.argmax(nn_pred, axis=1)\n"
   ]
  },
  {
   "cell_type": "markdown",
   "metadata": {},
   "source": [
    "### Random_Forest"
   ]
  },
  {
   "cell_type": "code",
   "execution_count": 6,
   "metadata": {},
   "outputs": [
    {
     "name": "stderr",
     "output_type": "stream",
     "text": [
      "[Parallel(n_jobs=10)]: Using backend ThreadingBackend with 10 concurrent workers.\n",
      "[Parallel(n_jobs=10)]: Done  30 tasks      | elapsed:    4.4s\n",
      "[Parallel(n_jobs=10)]: Done 100 out of 100 | elapsed:   14.7s finished\n"
     ]
    },
    {
     "data": {
      "text/html": [
       "<style>#sk-container-id-1 {color: black;background-color: white;}#sk-container-id-1 pre{padding: 0;}#sk-container-id-1 div.sk-toggleable {background-color: white;}#sk-container-id-1 label.sk-toggleable__label {cursor: pointer;display: block;width: 100%;margin-bottom: 0;padding: 0.3em;box-sizing: border-box;text-align: center;}#sk-container-id-1 label.sk-toggleable__label-arrow:before {content: \"▸\";float: left;margin-right: 0.25em;color: #696969;}#sk-container-id-1 label.sk-toggleable__label-arrow:hover:before {color: black;}#sk-container-id-1 div.sk-estimator:hover label.sk-toggleable__label-arrow:before {color: black;}#sk-container-id-1 div.sk-toggleable__content {max-height: 0;max-width: 0;overflow: hidden;text-align: left;background-color: #f0f8ff;}#sk-container-id-1 div.sk-toggleable__content pre {margin: 0.2em;color: black;border-radius: 0.25em;background-color: #f0f8ff;}#sk-container-id-1 input.sk-toggleable__control:checked~div.sk-toggleable__content {max-height: 200px;max-width: 100%;overflow: auto;}#sk-container-id-1 input.sk-toggleable__control:checked~label.sk-toggleable__label-arrow:before {content: \"▾\";}#sk-container-id-1 div.sk-estimator input.sk-toggleable__control:checked~label.sk-toggleable__label {background-color: #d4ebff;}#sk-container-id-1 div.sk-label input.sk-toggleable__control:checked~label.sk-toggleable__label {background-color: #d4ebff;}#sk-container-id-1 input.sk-hidden--visually {border: 0;clip: rect(1px 1px 1px 1px);clip: rect(1px, 1px, 1px, 1px);height: 1px;margin: -1px;overflow: hidden;padding: 0;position: absolute;width: 1px;}#sk-container-id-1 div.sk-estimator {font-family: monospace;background-color: #f0f8ff;border: 1px dotted black;border-radius: 0.25em;box-sizing: border-box;margin-bottom: 0.5em;}#sk-container-id-1 div.sk-estimator:hover {background-color: #d4ebff;}#sk-container-id-1 div.sk-parallel-item::after {content: \"\";width: 100%;border-bottom: 1px solid gray;flex-grow: 1;}#sk-container-id-1 div.sk-label:hover label.sk-toggleable__label {background-color: #d4ebff;}#sk-container-id-1 div.sk-serial::before {content: \"\";position: absolute;border-left: 1px solid gray;box-sizing: border-box;top: 0;bottom: 0;left: 50%;z-index: 0;}#sk-container-id-1 div.sk-serial {display: flex;flex-direction: column;align-items: center;background-color: white;padding-right: 0.2em;padding-left: 0.2em;position: relative;}#sk-container-id-1 div.sk-item {position: relative;z-index: 1;}#sk-container-id-1 div.sk-parallel {display: flex;align-items: stretch;justify-content: center;background-color: white;position: relative;}#sk-container-id-1 div.sk-item::before, #sk-container-id-1 div.sk-parallel-item::before {content: \"\";position: absolute;border-left: 1px solid gray;box-sizing: border-box;top: 0;bottom: 0;left: 50%;z-index: -1;}#sk-container-id-1 div.sk-parallel-item {display: flex;flex-direction: column;z-index: 1;position: relative;background-color: white;}#sk-container-id-1 div.sk-parallel-item:first-child::after {align-self: flex-end;width: 50%;}#sk-container-id-1 div.sk-parallel-item:last-child::after {align-self: flex-start;width: 50%;}#sk-container-id-1 div.sk-parallel-item:only-child::after {width: 0;}#sk-container-id-1 div.sk-dashed-wrapped {border: 1px dashed gray;margin: 0 0.4em 0.5em 0.4em;box-sizing: border-box;padding-bottom: 0.4em;background-color: white;}#sk-container-id-1 div.sk-label label {font-family: monospace;font-weight: bold;display: inline-block;line-height: 1.2em;}#sk-container-id-1 div.sk-label-container {text-align: center;}#sk-container-id-1 div.sk-container {/* jupyter's `normalize.less` sets `[hidden] { display: none; }` but bootstrap.min.css set `[hidden] { display: none !important; }` so we also need the `!important` here to be able to override the default hidden behavior on the sphinx rendered scikit-learn.org. See: https://github.com/scikit-learn/scikit-learn/issues/21755 */display: inline-block !important;position: relative;}#sk-container-id-1 div.sk-text-repr-fallback {display: none;}</style><div id=\"sk-container-id-1\" class=\"sk-top-container\"><div class=\"sk-text-repr-fallback\"><pre>RandomForestClassifier(n_jobs=10, random_state=50, verbose=1)</pre><b>In a Jupyter environment, please rerun this cell to show the HTML representation or trust the notebook. <br />On GitHub, the HTML representation is unable to render, please try loading this page with nbviewer.org.</b></div><div class=\"sk-container\" hidden><div class=\"sk-item\"><div class=\"sk-estimator sk-toggleable\"><input class=\"sk-toggleable__control sk-hidden--visually\" id=\"sk-estimator-id-1\" type=\"checkbox\" checked><label for=\"sk-estimator-id-1\" class=\"sk-toggleable__label sk-toggleable__label-arrow\">RandomForestClassifier</label><div class=\"sk-toggleable__content\"><pre>RandomForestClassifier(n_jobs=10, random_state=50, verbose=1)</pre></div></div></div></div></div>"
      ],
      "text/plain": [
       "RandomForestClassifier(n_jobs=10, random_state=50, verbose=1)"
      ]
     },
     "execution_count": 6,
     "metadata": {},
     "output_type": "execute_result"
    }
   ],
   "source": [
    "# Building a random forest\n",
    "rf = RandomForestClassifier(n_estimators=100, criterion='gini', random_state=50,n_jobs=10,verbose=1)\n",
    "# Training random forest\n",
    "rf.fit(X_train, y_train)"
   ]
  },
  {
   "cell_type": "code",
   "execution_count": 7,
   "metadata": {},
   "outputs": [
    {
     "name": "stderr",
     "output_type": "stream",
     "text": [
      "[Parallel(n_jobs=10)]: Using backend ThreadingBackend with 10 concurrent workers.\n",
      "[Parallel(n_jobs=10)]: Done  30 tasks      | elapsed:    0.1s\n",
      "[Parallel(n_jobs=10)]: Done 100 out of 100 | elapsed:    0.4s finished\n"
     ]
    }
   ],
   "source": [
    "rf_pred = rf.predict(X_test)\n",
    "rf_pred_classes = np.argmax(rf_pred, axis=1)\n",
    "rf_accuracy = accuracy_score(y_test, rf_pred)"
   ]
  },
  {
   "cell_type": "markdown",
   "metadata": {},
   "source": [
    "### SVM"
   ]
  },
  {
   "cell_type": "code",
   "execution_count": 8,
   "metadata": {},
   "outputs": [],
   "source": [
    "# # Reversing one hot encoder transformation\n",
    "y_train_original = ohe.inverse_transform(y_train).ravel()\n",
    "y_test_original = ohe.inverse_transform(y_test).ravel()"
   ]
  },
  {
   "cell_type": "code",
   "execution_count": 9,
   "metadata": {},
   "outputs": [
    {
     "data": {
      "text/html": [
       "<style>#sk-container-id-2 {color: black;background-color: white;}#sk-container-id-2 pre{padding: 0;}#sk-container-id-2 div.sk-toggleable {background-color: white;}#sk-container-id-2 label.sk-toggleable__label {cursor: pointer;display: block;width: 100%;margin-bottom: 0;padding: 0.3em;box-sizing: border-box;text-align: center;}#sk-container-id-2 label.sk-toggleable__label-arrow:before {content: \"▸\";float: left;margin-right: 0.25em;color: #696969;}#sk-container-id-2 label.sk-toggleable__label-arrow:hover:before {color: black;}#sk-container-id-2 div.sk-estimator:hover label.sk-toggleable__label-arrow:before {color: black;}#sk-container-id-2 div.sk-toggleable__content {max-height: 0;max-width: 0;overflow: hidden;text-align: left;background-color: #f0f8ff;}#sk-container-id-2 div.sk-toggleable__content pre {margin: 0.2em;color: black;border-radius: 0.25em;background-color: #f0f8ff;}#sk-container-id-2 input.sk-toggleable__control:checked~div.sk-toggleable__content {max-height: 200px;max-width: 100%;overflow: auto;}#sk-container-id-2 input.sk-toggleable__control:checked~label.sk-toggleable__label-arrow:before {content: \"▾\";}#sk-container-id-2 div.sk-estimator input.sk-toggleable__control:checked~label.sk-toggleable__label {background-color: #d4ebff;}#sk-container-id-2 div.sk-label input.sk-toggleable__control:checked~label.sk-toggleable__label {background-color: #d4ebff;}#sk-container-id-2 input.sk-hidden--visually {border: 0;clip: rect(1px 1px 1px 1px);clip: rect(1px, 1px, 1px, 1px);height: 1px;margin: -1px;overflow: hidden;padding: 0;position: absolute;width: 1px;}#sk-container-id-2 div.sk-estimator {font-family: monospace;background-color: #f0f8ff;border: 1px dotted black;border-radius: 0.25em;box-sizing: border-box;margin-bottom: 0.5em;}#sk-container-id-2 div.sk-estimator:hover {background-color: #d4ebff;}#sk-container-id-2 div.sk-parallel-item::after {content: \"\";width: 100%;border-bottom: 1px solid gray;flex-grow: 1;}#sk-container-id-2 div.sk-label:hover label.sk-toggleable__label {background-color: #d4ebff;}#sk-container-id-2 div.sk-serial::before {content: \"\";position: absolute;border-left: 1px solid gray;box-sizing: border-box;top: 0;bottom: 0;left: 50%;z-index: 0;}#sk-container-id-2 div.sk-serial {display: flex;flex-direction: column;align-items: center;background-color: white;padding-right: 0.2em;padding-left: 0.2em;position: relative;}#sk-container-id-2 div.sk-item {position: relative;z-index: 1;}#sk-container-id-2 div.sk-parallel {display: flex;align-items: stretch;justify-content: center;background-color: white;position: relative;}#sk-container-id-2 div.sk-item::before, #sk-container-id-2 div.sk-parallel-item::before {content: \"\";position: absolute;border-left: 1px solid gray;box-sizing: border-box;top: 0;bottom: 0;left: 50%;z-index: -1;}#sk-container-id-2 div.sk-parallel-item {display: flex;flex-direction: column;z-index: 1;position: relative;background-color: white;}#sk-container-id-2 div.sk-parallel-item:first-child::after {align-self: flex-end;width: 50%;}#sk-container-id-2 div.sk-parallel-item:last-child::after {align-self: flex-start;width: 50%;}#sk-container-id-2 div.sk-parallel-item:only-child::after {width: 0;}#sk-container-id-2 div.sk-dashed-wrapped {border: 1px dashed gray;margin: 0 0.4em 0.5em 0.4em;box-sizing: border-box;padding-bottom: 0.4em;background-color: white;}#sk-container-id-2 div.sk-label label {font-family: monospace;font-weight: bold;display: inline-block;line-height: 1.2em;}#sk-container-id-2 div.sk-label-container {text-align: center;}#sk-container-id-2 div.sk-container {/* jupyter's `normalize.less` sets `[hidden] { display: none; }` but bootstrap.min.css set `[hidden] { display: none !important; }` so we also need the `!important` here to be able to override the default hidden behavior on the sphinx rendered scikit-learn.org. See: https://github.com/scikit-learn/scikit-learn/issues/21755 */display: inline-block !important;position: relative;}#sk-container-id-2 div.sk-text-repr-fallback {display: none;}</style><div id=\"sk-container-id-2\" class=\"sk-top-container\"><div class=\"sk-text-repr-fallback\"><pre>SVC(kernel=&#x27;linear&#x27;, random_state=50)</pre><b>In a Jupyter environment, please rerun this cell to show the HTML representation or trust the notebook. <br />On GitHub, the HTML representation is unable to render, please try loading this page with nbviewer.org.</b></div><div class=\"sk-container\" hidden><div class=\"sk-item\"><div class=\"sk-estimator sk-toggleable\"><input class=\"sk-toggleable__control sk-hidden--visually\" id=\"sk-estimator-id-2\" type=\"checkbox\" checked><label for=\"sk-estimator-id-2\" class=\"sk-toggleable__label sk-toggleable__label-arrow\">SVC</label><div class=\"sk-toggleable__content\"><pre>SVC(kernel=&#x27;linear&#x27;, random_state=50)</pre></div></div></div></div></div>"
      ],
      "text/plain": [
       "SVC(kernel='linear', random_state=50)"
      ]
     },
     "execution_count": 9,
     "metadata": {},
     "output_type": "execute_result"
    }
   ],
   "source": [
    "svm = SVC(kernel='linear', C=1.0, decision_function_shape='ovr', random_state=50)\n",
    "# Training svm\n",
    "svm.fit(X_train, y_train_original)"
   ]
  },
  {
   "cell_type": "code",
   "execution_count": 10,
   "metadata": {},
   "outputs": [],
   "source": [
    "svm_pred = svm.predict(X_test)\n",
    "svm_accuracy = accuracy_score(y_test_original, svm_pred)"
   ]
  },
  {
   "cell_type": "markdown",
   "metadata": {},
   "source": [
    "#### Model accuracy score, classification report, and confusion matrix"
   ]
  },
  {
   "cell_type": "code",
   "execution_count": 11,
   "metadata": {},
   "outputs": [
    {
     "name": "stdout",
     "output_type": "stream",
     "text": [
      "NN loss: 0.0427, NN accuracy: 0.9947\n",
      "RF accuracy: 0.9933\n",
      "SVM accuracy: 0.9995\n"
     ]
    }
   ],
   "source": [
    "#  Accuracy score\n",
    "print(f\"NN loss: {nn_loss:.4f}, NN accuracy: {nn_accuracy:.4f}\")\n",
    "print(f\"RF accuracy: {rf_accuracy:.4f}\")\n",
    "print(f\"SVM accuracy: {svm_accuracy:.4f}\")"
   ]
  },
  {
   "cell_type": "code",
   "execution_count": 12,
   "metadata": {},
   "outputs": [
    {
     "name": "stdout",
     "output_type": "stream",
     "text": [
      "Neural Network classification report: \n",
      "\n",
      "               precision    recall  f1-score   support\n",
      "\n",
      "    low Risk       0.99      1.00      0.99      9036\n",
      "    Mid Risk       1.00      0.99      1.00     19794\n",
      "   High Risk       0.99      1.00      0.99     22181\n",
      "\n",
      "    accuracy                           0.99     51011\n",
      "   macro avg       0.99      1.00      0.99     51011\n",
      "weighted avg       0.99      0.99      0.99     51011\n",
      " \n",
      "\n",
      " Random Forest classification report: \n",
      "\n",
      "               precision    recall  f1-score   support\n",
      "\n",
      "    low Risk       0.98      0.98      0.98      9124\n",
      "    Mid Risk       1.00      1.00      1.00     19633\n",
      "   High Risk       1.00      1.00      1.00     22254\n",
      "\n",
      "    accuracy                           0.99     51011\n",
      "   macro avg       0.99      0.99      0.99     51011\n",
      "weighted avg       0.99      0.99      0.99     51011\n",
      " \n",
      "\n",
      " SVM classification report: \n",
      "\n",
      "               precision    recall  f1-score   support\n",
      "\n",
      "    low Risk       1.00      1.00      1.00      9101\n",
      "    Mid Risk       1.00      1.00      1.00     19635\n",
      "   High Risk       1.00      1.00      1.00     22275\n",
      "\n",
      "    accuracy                           1.00     51011\n",
      "   macro avg       1.00      1.00      1.00     51011\n",
      "weighted avg       1.00      1.00      1.00     51011\n",
      "\n"
     ]
    }
   ],
   "source": [
    "# Generate classification report\n",
    "nn_report = classification_report(nn_pred_classes, y_test_original, target_names = [\"low Risk\", \"Mid Risk\", \"High Risk\"])\n",
    "rf_report = classification_report(rf_pred_classes, y_test_original, target_names = [\"low Risk\", \"Mid Risk\", \"High Risk\"])\n",
    "svm_report = classification_report(svm_pred, y_test_original, target_names = [\"low Risk\", \"Mid Risk\", \"High Risk\"])\n",
    "print(\"Neural Network classification report: \\n\\n {} \\n\\n Random Forest classification report: \\n\\n {} \\n\\n SVM classification report: \\n\\n {}\".format(nn_report, rf_report, svm_report))"
   ]
  },
  {
   "cell_type": "code",
   "execution_count": 13,
   "metadata": {},
   "outputs": [
    {
     "name": "stdout",
     "output_type": "stream",
     "text": [
      "Neural Network confusion matrix: \n",
      "\n",
      " [[ 9011    18     7]\n",
      " [   24 19621   149]\n",
      " [   68     3 22110]] \n",
      "\n",
      " Random Forest confusion matrix: \n",
      "\n",
      " [[ 8963    70    91]\n",
      " [   63 19559    11]\n",
      " [   77    13 22164]] \n",
      "\n",
      " SVM confusion matrix: \n",
      "\n",
      " [[ 9095     5     1]\n",
      " [    0 19629     6]\n",
      " [    8     8 22259]]\n"
     ]
    }
   ],
   "source": [
    "nn_cm = confusion_matrix (nn_pred_classes, y_test_original)\n",
    "rf_cm = confusion_matrix (rf_pred_classes, y_test_original)\n",
    "svm_cm = confusion_matrix (svm_pred, y_test_original)\n",
    "print(\"Neural Network confusion matrix: \\n\\n {} \\n\\n Random Forest confusion matrix: \\n\\n {} \\n\\n SVM confusion matrix: \\n\\n {}\".format(nn_cm, rf_cm, svm_cm))"
   ]
  }
 ],
 "metadata": {
  "kernelspec": {
   "display_name": "Python 3",
   "language": "python",
   "name": "python3"
  },
  "language_info": {
   "codemirror_mode": {
    "name": "ipython",
    "version": 3
   },
   "file_extension": ".py",
   "mimetype": "text/x-python",
   "name": "python",
   "nbconvert_exporter": "python",
   "pygments_lexer": "ipython3",
   "version": "3.11.3"
  },
  "orig_nbformat": 4
 },
 "nbformat": 4,
 "nbformat_minor": 2
}
